{
 "cells": [
  {
   "cell_type": "markdown",
   "metadata": {},
   "source": [
    "# Spotify Streams Visualizer\n",
    "\n",
    "Visualizes hyped spotify songs, so you may never miss the newest truly aweful song that everyone knows. \n",
    "\n",
    "First streams per day of the 200 most streamed songs from www.spotifycharts.com are crawled. Then the most streamed songs played in the last view days are plotted.  "
   ]
  },
  {
   "cell_type": "code",
   "execution_count": null,
   "metadata": {},
   "outputs": [],
   "source": [
    "import pandas as pd\n",
    "import io\n",
    "import requests\n",
    "import datetime\n",
    "import numpy as np\n",
    "\n",
    "def download_spotify_day(url):\n",
    "    s = requests.get(url).content\n",
    "    s = s.decode('utf-8')[127:] # remove first line of file - not needed\n",
    "    df = pd.read_csv(io.StringIO(s))\n",
    "    return df\n",
    "\n",
    "\n",
    "def get_dates(num_days=10, day_delta=1):\n",
    "    base = datetime.datetime.today()\n",
    "    return list(reversed([base - datetime.timedelta(days=x*day_delta) for x in range(num_days+1)][1:]))"
   ]
  },
  {
   "cell_type": "code",
   "execution_count": null,
   "metadata": {},
   "outputs": [],
   "source": [
    "# download csv files with stream data and return dataframes. Crawl responsibly.\n",
    "dates = get_dates(num_days=50, day_delta=1) # remove today\n",
    "\n",
    "dfs = []\n",
    "streams = []\n",
    "for i, date in enumerate(dates):\n",
    "    print('download: ', i)\n",
    "    url = \"https://spotifycharts.com/regional/global/daily/{}/download\".format(date.strftime(\"%Y-%m-%d\"))\n",
    "    df = download_spotify_day(url)\n",
    "    dfs.append(df)\n"
   ]
  },
  {
   "cell_type": "code",
   "execution_count": null,
   "metadata": {},
   "outputs": [],
   "source": [
    "# filter and rename\n",
    "datas = []\n",
    "for i,df in enumerate(dfs):\n",
    "    data = df[[\"Track Name\", \"Streams\"]]\n",
    "    \n",
    "    # rename cols\n",
    "    data = data.rename(columns={\"Track Name\": \"track\", \"Streams\": str(i)})\n",
    "    datas.append(data)\n",
    "    \n",
    "# create relevant songs\n",
    "songs = datas[0]['track'].tolist()[:20]\n",
    "songs"
   ]
  },
  {
   "cell_type": "code",
   "execution_count": null,
   "metadata": {},
   "outputs": [],
   "source": [
    "# for all songs, get streams per day\n",
    "\n",
    "song_streams = {} # song: stream_list\n",
    "for song in songs:\n",
    "    song_streams[song] = []\n",
    "    \n",
    "for data in datas:\n",
    "    for song in songs:\n",
    "        streamed = data[data['track'] == song]\n",
    "        if len(streamed) == 1:\n",
    "            streamed = streamed.iloc[0][1]\n",
    "        else:\n",
    "            streamed = 0\n",
    "        song_streams[song].append(streamed)\n"
   ]
  },
  {
   "cell_type": "code",
   "execution_count": null,
   "metadata": {},
   "outputs": [],
   "source": [
    "plt.figure(figsize=(10, 5))\n",
    "for song in songs[:10]:\n",
    "    plt.plot(dates, song_streams[song], label=song)\n",
    "\n",
    "plt.legend(title='Songs', bbox_to_anchor=(1.05, 1), loc='upper left')\n",
    "plt.title('Spotify - Most Streamed Songs')\n",
    "plt.ylabel('Streams per Day')\n",
    "plt.xticks(rotation=20)\n",
    "plt.tight_layout()\n",
    "\n",
    "plt.savefig('spotify.png', dpi=300)"
   ]
  },
  {
   "cell_type": "code",
   "execution_count": null,
   "metadata": {},
   "outputs": [],
   "source": []
  }
 ],
 "metadata": {
  "kernelspec": {
   "display_name": "Python 3.6.10 64-bit ('ma': conda)",
   "language": "python",
   "name": "python361064bitmaconda6e3f2ed54c3f475aac3b1b0f2ef95943"
  },
  "language_info": {
   "codemirror_mode": {
    "name": "ipython",
    "version": 3
   },
   "file_extension": ".py",
   "mimetype": "text/x-python",
   "name": "python",
   "nbconvert_exporter": "python",
   "pygments_lexer": "ipython3",
   "version": "3.6.10"
  }
 },
 "nbformat": 4,
 "nbformat_minor": 4
}
